{
  "nbformat": 4,
  "nbformat_minor": 0,
  "metadata": {
    "colab": {
      "name": "Day-4 Assignment.ipynb",
      "provenance": [],
      "authorship_tag": "ABX9TyNOt6aLX1vmQCWSBypTmhL3",
      "include_colab_link": true
    },
    "kernelspec": {
      "name": "python3",
      "display_name": "Python 3"
    }
  },
  "cells": [
    {
      "cell_type": "markdown",
      "metadata": {
        "id": "view-in-github",
        "colab_type": "text"
      },
      "source": [
        "<a href=\"https://colab.research.google.com/github/Andis-08/LetsUpgrad-Assignment/blob/master/Day_4_Assignment.ipynb\" target=\"_parent\"><img src=\"https://colab.research.google.com/assets/colab-badge.svg\" alt=\"Open In Colab\"/></a>"
      ]
    },
    {
      "cell_type": "markdown",
      "metadata": {
        "id": "RUbf3QTtELUK",
        "colab_type": "text"
      },
      "source": [
        "# Armstrong Number in Range of 1042000 to 702648265"
      ]
    },
    {
      "cell_type": "code",
      "metadata": {
        "id": "QjMbkkgH9BEG",
        "colab_type": "code",
        "colab": {
          "base_uri": "https://localhost:8080/",
          "height": 34
        },
        "outputId": "713f24e5-f576-46ee-ad27-861019933567"
      },
      "source": [
        "for i in range(1042000,7026480):\n",
        "  temp = i\n",
        "  sum = 0\n",
        "  while temp > 0:\n",
        "    digit = temp % 10\n",
        "    sum += digit ** 3\n",
        "    temp //= 10\n",
        "  if i == sum:\n",
        "    print(\"The First Armstrong number is: \" , i)\n",
        "    break\n",
        "else:\n",
        "  print(\"There is no Armstrong Number in the range\")\n"
      ],
      "execution_count": 9,
      "outputs": [
        {
          "output_type": "stream",
          "text": [
            "There is no Armstrong Number in the range\n"
          ],
          "name": "stdout"
        }
      ]
    }
  ]
}