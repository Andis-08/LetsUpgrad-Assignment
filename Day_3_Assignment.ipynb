{
  "nbformat": 4,
  "nbformat_minor": 0,
  "metadata": {
    "colab": {
      "name": "Day-3 Assignment.ipynb",
      "provenance": [],
      "authorship_tag": "ABX9TyMJ+fjJKJqTCs7ZMqVbqRcJ",
      "include_colab_link": true
    },
    "kernelspec": {
      "name": "python3",
      "display_name": "Python 3"
    }
  },
  "cells": [
    {
      "cell_type": "markdown",
      "metadata": {
        "id": "view-in-github",
        "colab_type": "text"
      },
      "source": [
        "<a href=\"https://colab.research.google.com/github/Andis-08/LetsUpgrad-Assignment/blob/master/Day_3_Assignment.ipynb\" target=\"_parent\"><img src=\"https://colab.research.google.com/assets/colab-badge.svg\" alt=\"Open In Colab\"/></a>"
      ]
    },
    {
      "cell_type": "markdown",
      "metadata": {
        "id": "0YRil_sV1f57",
        "colab_type": "text"
      },
      "source": [
        "# Assignment 1\n",
        "### Plane Landing"
      ]
    },
    {
      "cell_type": "code",
      "metadata": {
        "id": "BMkBb9501VVi",
        "colab_type": "code",
        "colab": {
          "base_uri": "https://localhost:8080/",
          "height": 50
        },
        "outputId": "a0050c3b-39c8-47c6-fab7-9170a337a116"
      },
      "source": [
        "altitude = int(input(\"Enter the Altitude of Plane: \"))\n",
        "\n",
        "if altitude<=1000:\n",
        "  print(\"Safe to Land\")\n",
        "elif altitude<=5000:\n",
        "  print(\"Bring down Plane to 1000ft\")\n",
        "else:\n",
        "  print(\"Turn Around and Try Again\")"
      ],
      "execution_count": 2,
      "outputs": [
        {
          "output_type": "stream",
          "text": [
            "Enter the Altitude of Plane: 990\n",
            "Safe to Land\n"
          ],
          "name": "stdout"
        }
      ]
    },
    {
      "cell_type": "code",
      "metadata": {
        "id": "A3U6B2tvFCRb",
        "colab_type": "code",
        "colab": {
          "base_uri": "https://localhost:8080/",
          "height": 50
        },
        "outputId": "ad42af9f-7711-4ac0-b7c3-521ee90f3384"
      },
      "source": [
        "altitude = int(input(\"Enter the Altitude of Plane: \"))\n",
        "\n",
        "if altitude<=1000:\n",
        "  print(\"Safe to Land\")\n",
        "elif altitude<=5000:\n",
        "  print(\"Bring down Plane to 1000ft\")\n",
        "else:\n",
        "  print(\"Turn Around and Try Again\")"
      ],
      "execution_count": 3,
      "outputs": [
        {
          "output_type": "stream",
          "text": [
            "Enter the Altitude of Plane: 2500\n",
            "Bring down Plane to 1000ft\n"
          ],
          "name": "stdout"
        }
      ]
    },
    {
      "cell_type": "code",
      "metadata": {
        "id": "6hrVDFIIFjJM",
        "colab_type": "code",
        "colab": {
          "base_uri": "https://localhost:8080/",
          "height": 50
        },
        "outputId": "ce32b681-457d-435c-f1fc-cf8ae04f51f4"
      },
      "source": [
        "altitude = int(input(\"Enter the Altitude of Plane: \"))\n",
        "\n",
        "if altitude<=1000:\n",
        "  print(\"Safe to Land\")\n",
        "elif altitude<=5000:\n",
        "  print(\"Bring down Plane to 1000ft\")\n",
        "else:\n",
        "  print(\"Turn Around and Try Again\")"
      ],
      "execution_count": 4,
      "outputs": [
        {
          "output_type": "stream",
          "text": [
            "Enter the Altitude of Plane: 7400\n",
            "Turn Around and Try Again\n"
          ],
          "name": "stdout"
        }
      ]
    },
    {
      "cell_type": "markdown",
      "metadata": {
        "id": "K2-ccdnuFuFt",
        "colab_type": "text"
      },
      "source": [
        "# Assignment 2\n",
        "### Prime Numbers between 1-200"
      ]
    },
    {
      "cell_type": "code",
      "metadata": {
        "id": "TcW3ImvLFj3y",
        "colab_type": "code",
        "colab": {
          "base_uri": "https://localhost:8080/",
          "height": 790
        },
        "outputId": "220be0ae-6d98-4746-cf8f-16606faae2e1"
      },
      "source": [
        "for i in range(1,200):\n",
        "  if i>1:\n",
        "    for j in range(2,int(i/2)+1):\n",
        "      if i%j==0:\n",
        "        break\n",
        "    else:\n",
        "      print(i)"
      ],
      "execution_count": 7,
      "outputs": [
        {
          "output_type": "stream",
          "text": [
            "2\n",
            "3\n",
            "5\n",
            "7\n",
            "11\n",
            "13\n",
            "17\n",
            "19\n",
            "23\n",
            "29\n",
            "31\n",
            "37\n",
            "41\n",
            "43\n",
            "47\n",
            "53\n",
            "59\n",
            "61\n",
            "67\n",
            "71\n",
            "73\n",
            "79\n",
            "83\n",
            "89\n",
            "97\n",
            "101\n",
            "103\n",
            "107\n",
            "109\n",
            "113\n",
            "127\n",
            "131\n",
            "137\n",
            "139\n",
            "149\n",
            "151\n",
            "157\n",
            "163\n",
            "167\n",
            "173\n",
            "179\n",
            "181\n",
            "191\n",
            "193\n",
            "197\n",
            "199\n"
          ],
          "name": "stdout"
        }
      ]
    }
  ]
}